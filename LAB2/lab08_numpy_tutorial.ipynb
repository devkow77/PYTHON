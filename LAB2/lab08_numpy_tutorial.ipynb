{
  "cells": [
    {
      "cell_type": "markdown",
      "metadata": {
        "id": "dzNng6vCL9eP"
      },
      "source": [
        "# Numpy i Matplotlib - tutorial"
      ]
    },
    {
      "cell_type": "markdown",
      "metadata": {
        "id": "0vJLt3JRL9eR"
      },
      "source": [
        "Ten samouczek został pierwotnie napisany przez [Justina Johnsona](https://web.eecs.umich.edu/~justincj/) dla kursu CS231n. Został zaadaptowany jako notatnik Jupyter dla kursu CS228 przez [Volodymyra Kuleshova](http://web.stanford.edu/~kuleshov/) i [Isaaca Caswella](https://symsys.stanford.edu/viewing/symsysaffiliate/21335).\n",
        "\n",
        "Zadania do samodzielnego wykonania pochodzą z kursu Machine Learning (GMUM UJ): https://github.com/gmum/"
      ]
    },
    {
      "cell_type": "markdown",
      "metadata": {
        "id": "qVrTo-LhL9eS"
      },
      "source": [
        "## Wprowadzenie"
      ]
    },
    {
      "cell_type": "markdown",
      "metadata": {
        "id": "9t1gKp9PL9eV"
      },
      "source": [
        "Python to świetny, ogólnego przeznaczenia język programowania, ale z pomocą kilku popularnych bibliotek (numpy, scipy, matplotlib) staje się potężnym środowiskiem do obliczeń naukowych.\n",
        "\n",
        "Zakładamy, że wielu z Was ma już pewne doświadczenie z Pythonem i biblioteką numpy; dla pozostałych ta sekcja będzie stanowić szybki kurs wprowadzający zarówno do samego języka Python, jak i jego zastosowań w obliczeniach naukowych.\n",
        "\n",
        "Jeśli masz wcześniejsze doświadczenie z Matlabem, polecamy również stronę „numpy dla użytkowników Matlaba” (https://docs.scipy.org/doc/numpy-dev/user/numpy-for-matlab-users.html)."
      ]
    },
    {
      "cell_type": "markdown",
      "metadata": {
        "id": "U1PvreR9L9eW"
      },
      "source": [
        "W tym samouczku omówimy:\n",
        "\n",
        "- Numpy: Tablice, indeksowanie tablic, typy danych, operacje matematyczne na tablicach, broadcasting\n",
        "- Matplotlib: Tworzenie wykresów, podwykresy, obrazy\n"
      ]
    },
    {
      "cell_type": "markdown",
      "metadata": {
        "id": "3cfrOV4dL9hW"
      },
      "source": [
        "##Numpy"
      ]
    },
    {
      "cell_type": "markdown",
      "metadata": {
        "id": "fY12nHhyL9hX"
      },
      "source": [
        "Numpy to podstawowa biblioteka do obliczeń naukowych w Pythonie. Udostępnia wydajny obiekt tablicy wielowymiarowej oraz narzędzia do pracy z tymi tablicami. Jeśli masz już doświadczenie z MATLAB-em, pomocny może być ten [samouczek](http://wiki.scipy.org/NumPy_for_Matlab_Users), który ułatwi Ci rozpoczęcie pracy z biblioteką Numpy."
      ]
    },
    {
      "cell_type": "markdown",
      "metadata": {
        "id": "lZMyAdqhL9hY"
      },
      "source": [
        "Aby korzystać z biblioteki Numpy, najpierw musimy zaimportować pakiet `numpy`:"
      ]
    },
    {
      "cell_type": "code",
      "execution_count": null,
      "metadata": {
        "id": "58QdX8BLL9hZ"
      },
      "outputs": [],
      "source": [
        "import numpy as np"
      ]
    },
    {
      "cell_type": "markdown",
      "metadata": {
        "id": "DDx6v1EdL9hb"
      },
      "source": [
        "### Tablice"
      ]
    },
    {
      "cell_type": "markdown",
      "metadata": {
        "id": "f-Zv3f7LL9hc"
      },
      "source": [
        "Tablica Numpy to siatka wartości, wszystkie tego samego typu, indeksowana za pomocą krotki zawierającej nieujemne liczby całkowite. Liczba wymiarów tablicy nazywana jest jej **rangą** (rank), a jej **kształt** (shape) to krotka liczb całkowitych określająca rozmiar tablicy wzdłuż każdej osi.\n",
        "\n",
        "Możemy inicjalizować tablice Numpy z zagnieżdżonych list Pythona oraz uzyskiwać dostęp do ich elementów za pomocą nawiasów kwadratowych:"
      ]
    },
    {
      "cell_type": "code",
      "execution_count": null,
      "metadata": {
        "id": "-l3JrGxCL9hc"
      },
      "outputs": [],
      "source": [
        "a = np.array([1, 2, 3])  # Create a rank 1 array\n",
        "print(type(a), a.shape, a[0], a[1], a[2])\n",
        "a[0] = 5                 # Change an element of the array\n",
        "print(a)"
      ]
    },
    {
      "cell_type": "code",
      "execution_count": null,
      "metadata": {
        "id": "ma6mk-kdL9hh"
      },
      "outputs": [],
      "source": [
        "b = np.array([[1,2,3],[4,5,6]])   # Create a rank 2 array\n",
        "print(b)"
      ]
    },
    {
      "cell_type": "code",
      "execution_count": null,
      "metadata": {
        "id": "ymfSHAwtL9hj"
      },
      "outputs": [],
      "source": [
        "print(b.shape)\n",
        "print(b[0, 0], b[0, 1], b[1, 0])"
      ]
    },
    {
      "cell_type": "markdown",
      "metadata": {
        "id": "F2qwdyvuL9hn"
      },
      "source": [
        "Numpy udostępnia również wiele funkcji do tworzenia tablic:"
      ]
    },
    {
      "cell_type": "code",
      "execution_count": null,
      "metadata": {
        "id": "mVTN_EBqL9hn"
      },
      "outputs": [],
      "source": [
        "a = np.zeros((2,2))  # Create an array of all zeros\n",
        "print(a)"
      ]
    },
    {
      "cell_type": "code",
      "execution_count": null,
      "metadata": {
        "id": "skiKlNmlL9h5"
      },
      "outputs": [],
      "source": [
        "b = np.ones((1,2))   # Create an array of all ones\n",
        "print(b)"
      ]
    },
    {
      "cell_type": "code",
      "execution_count": null,
      "metadata": {
        "id": "HtFsr03bL9h7"
      },
      "outputs": [],
      "source": [
        "c = np.full((2,2), 7) # Create a constant array\n",
        "print(c)"
      ]
    },
    {
      "cell_type": "code",
      "execution_count": null,
      "metadata": {
        "id": "-QcALHvkL9h9"
      },
      "outputs": [],
      "source": [
        "d = np.eye(2)        # Create a 2x2 identity matrix\n",
        "print(d)"
      ]
    },
    {
      "cell_type": "code",
      "execution_count": null,
      "metadata": {
        "id": "RCpaYg9qL9iA"
      },
      "outputs": [],
      "source": [
        "e = np.random.random((2,2)) # Create an array filled with random values\n",
        "print(e)"
      ]
    },
    {
      "cell_type": "markdown",
      "metadata": {
        "id": "jI5qcSDfL9iC"
      },
      "source": [
        "### Indeksowanie tablic"
      ]
    },
    {
      "cell_type": "markdown",
      "metadata": {
        "id": "QYv4JyIEL9iD"
      },
      "source": [
        "Numpy oferuje kilka sposobów indeksowania tablic.\n",
        "\n",
        "**Slicing (wycinki)**\n",
        "\n",
        "Podobnie jak w przypadku list Pythona, tablice Numpy można dzielić na fragmenty (slicing). Ponieważ tablice mogą być wielowymiarowe, należy określić wycinek dla każdego wymiaru tablicy:"
      ]
    },
    {
      "cell_type": "code",
      "execution_count": null,
      "metadata": {
        "id": "wLWA0udwL9iD"
      },
      "outputs": [],
      "source": [
        "import numpy as np\n",
        "\n",
        "# Create the following rank 2 array with shape (3, 4)\n",
        "# [[ 1  2  3  4]\n",
        "#  [ 5  6  7  8]\n",
        "#  [ 9 10 11 12]]\n",
        "a = np.array([[1,2,3,4], [5,6,7,8], [9,10,11,12]])\n",
        "\n",
        "# Use slicing to pull out the subarray consisting of the first 2 rows\n",
        "# and columns 1 and 2; b is the following array of shape (2, 2):\n",
        "# [[2 3]\n",
        "#  [6 7]]\n",
        "b = a[:2, 1:3]\n",
        "print(b)"
      ]
    },
    {
      "cell_type": "markdown",
      "metadata": {
        "id": "KahhtZKYL9iF"
      },
      "source": [
        "Wycinek (slice) tablicy jest widokiem na te same dane, więc jego modyfikacja zmieni również oryginalną tablicę."
      ]
    },
    {
      "cell_type": "code",
      "execution_count": null,
      "metadata": {
        "id": "1kmtaFHuL9iG"
      },
      "outputs": [],
      "source": [
        "print(a[0, 1])\n",
        "b[0, 0] = 77    # b[0, 0] is the same piece of data as a[0, 1]\n",
        "print(a[0, 1])"
      ]
    },
    {
      "cell_type": "markdown",
      "metadata": {
        "id": "_Zcf3zi-L9iI"
      },
      "source": [
        "Możesz również łączyć **indeksowanie liczbami całkowitymi** z **indeksowaniem przez wycinek (slicing)**. Jednak w takim przypadku wynikowa tablica będzie miała **niższą rangę** niż oryginalna.  \n",
        "\n",
        "Warto zauważyć, że sposób działania wycinków w Numpy różni się od tego w MATLAB-ie:"
      ]
    },
    {
      "cell_type": "code",
      "execution_count": null,
      "metadata": {
        "id": "G6lfbPuxL9iJ"
      },
      "outputs": [],
      "source": [
        "# Create the following rank 2 array with shape (3, 4)\n",
        "a = np.array([[1,2,3,4], [5,6,7,8], [9,10,11,12]])\n",
        "print(a)"
      ]
    },
    {
      "cell_type": "markdown",
      "metadata": {
        "id": "NCye3NXhL9iL"
      },
      "source": [
        "Dwa sposoby uzyskiwania dostępu do danych w środkowym wierszu tablicy:\n",
        "\n",
        "- Łączenie indeksowania liczbami całkowitymi z wycinkami zwraca tablicę o niższej randze niż oryginalna.\n",
        "- Używanie wyłącznie wycinków zwraca tablicę o tej samej randze co oryginalna:"
      ]
    },
    {
      "cell_type": "code",
      "execution_count": null,
      "metadata": {
        "id": "EOiEMsmNL9iL"
      },
      "outputs": [],
      "source": [
        "row_r1 = a[1, :]    # Rank 1 view of the second row of a\n",
        "row_r2 = a[1:2, :]  # Rank 2 view of the second row of a\n",
        "row_r3 = a[[1], :]  # Rank 2 view of the second row of a\n",
        "print(row_r1, row_r1.shape)\n",
        "print(row_r2, row_r2.shape)\n",
        "print(row_r3, row_r3.shape)"
      ]
    },
    {
      "cell_type": "code",
      "execution_count": null,
      "metadata": {
        "id": "JXu73pfDL9iN"
      },
      "outputs": [],
      "source": [
        "# We can make the same distinction when accessing columns of an array:\n",
        "col_r1 = a[:, 1]\n",
        "col_r2 = a[:, 1:2]\n",
        "print(col_r1, col_r1.shape)\n",
        "print()\n",
        "print(col_r2, col_r2.shape)"
      ]
    },
    {
      "cell_type": "markdown",
      "metadata": {
        "id": "VP3916bOL9iP"
      },
      "source": [
        "**Indeksowanie tablicą liczb całkowitych**  \n",
        "\n",
        "Gdy indeksujesz tablice Numpy za pomocą **wycinków (slicing)**, wynikowa tablica zawsze będzie **podtablicą** oryginalnej tablicy.  \n",
        "\n",
        "Natomiast **indeksowanie tablicą liczb całkowitych** pozwala na **dowolne konstruowanie nowych tablic**, wybierając określone elementy z innej tablicy. Oto przykład:"
      ]
    },
    {
      "cell_type": "code",
      "execution_count": null,
      "metadata": {
        "id": "TBnWonIDL9iP"
      },
      "outputs": [],
      "source": [
        "a = np.array([[1,2], [3, 4], [5, 6]])\n",
        "\n",
        "# An example of integer array indexing.\n",
        "# The returned array will have shape (3,) and\n",
        "print(a[[0, 1, 2], [0, 1, 0]])\n",
        "\n",
        "# The above example of integer array indexing is equivalent to this:\n",
        "print(np.array([a[0, 0], a[1, 1], a[2, 0]]))"
      ]
    },
    {
      "cell_type": "code",
      "execution_count": null,
      "metadata": {
        "id": "n7vuati-L9iR"
      },
      "outputs": [],
      "source": [
        "# When using integer array indexing, you can reuse the same\n",
        "# element from the source array:\n",
        "print(a[[0, 0], [1, 1]])\n",
        "\n",
        "# Equivalent to the previous integer array indexing example\n",
        "print(np.array([a[0, 1], a[0, 1]]))"
      ]
    },
    {
      "cell_type": "markdown",
      "metadata": {
        "id": "kaipSLafL9iU"
      },
      "source": [
        "Jedna przydatna technika przy **indeksowaniu tablicą liczb całkowitych** to **wybieranie lub modyfikowanie jednego elementu z każdego wiersza macierzy**:"
      ]
    },
    {
      "cell_type": "code",
      "execution_count": null,
      "metadata": {
        "id": "ehqsV7TXL9iU"
      },
      "outputs": [],
      "source": [
        "# Create a new array from which we will select elements\n",
        "a = np.array([[1,2,3], [4,5,6], [7,8,9], [10, 11, 12]])\n",
        "print(a)"
      ]
    },
    {
      "cell_type": "code",
      "execution_count": null,
      "metadata": {
        "id": "pAPOoqy5L9iV"
      },
      "outputs": [],
      "source": [
        "# Create an array of indices\n",
        "b = np.array([0, 2, 0, 1])\n",
        "\n",
        "# Select one element from each row of a using the indices in b\n",
        "print(a[np.arange(4), b])  # Prints \"[ 1  6  7 11]\""
      ]
    },
    {
      "cell_type": "code",
      "execution_count": null,
      "metadata": {
        "id": "6v1PdI1DL9ib"
      },
      "outputs": [],
      "source": [
        "# Mutate one element from each row of a using the indices in b\n",
        "a[np.arange(4), b] += 10\n",
        "print(a)"
      ]
    },
    {
      "cell_type": "markdown",
      "metadata": {
        "id": "kaE8dBGgL9id"
      },
      "source": [
        " **Indeksowanie tablicą wartości logicznych (Boolean array indexing)**  \n",
        "\n",
        "Indeksowanie tablicą wartości logicznych pozwala na wybieranie dowolnych elementów tablicy, które spełniają określony warunek.  \n",
        "\n",
        "Tego typu indeksowanie jest często używane do **filtrowania elementów tablicy** na podstawie warunków logicznych.  \n",
        "\n",
        "Oto przykład:"
      ]
    },
    {
      "cell_type": "code",
      "execution_count": null,
      "metadata": {
        "id": "32PusjtKL9id"
      },
      "outputs": [],
      "source": [
        "import numpy as np\n",
        "\n",
        "a = np.array([[1,2], [3, 4], [5, 6]])\n",
        "\n",
        "bool_idx = (a > 2)  # Find the elements of a that are bigger than 2;\n",
        "                    # this returns a numpy array of Booleans of the same\n",
        "                    # shape as a, where each slot of bool_idx tells\n",
        "                    # whether that element of a is > 2.\n",
        "print(bool_idx)"
      ]
    },
    {
      "cell_type": "code",
      "execution_count": null,
      "metadata": {
        "id": "cb2IRMXaL9if"
      },
      "outputs": [],
      "source": [
        "# We use boolean array indexing to construct a rank 1 array\n",
        "# consisting of the elements of a corresponding to the True values\n",
        "# of bool_idx\n",
        "print(a[bool_idx])\n",
        "\n",
        "# We can do all of the above in a single concise statement:\n",
        "print(a[a > 2])"
      ]
    },
    {
      "cell_type": "markdown",
      "metadata": {
        "id": "CdofMonAL9ih"
      },
      "source": [
        "Dla zwięzłości pominęliśmy wiele szczegółów dotyczących indeksowania tablic Numpy. Jeśli chcesz dowiedzieć się więcej, warto zapoznać się z [oficjalną dokumentacją Numpy](https://numpy.org/doc/stable/user/basics.indexing.html)."
      ]
    },
    {
      "cell_type": "markdown",
      "metadata": {
        "id": "jTctwqdQL9ih"
      },
      "source": [
        "### Typy danych"
      ]
    },
    {
      "cell_type": "markdown",
      "metadata": {
        "id": "kSZQ1WkIL9ih"
      },
      "source": [
        "Każda tablica Numpy to **siatka elementów tego samego typu**.  \n",
        "\n",
        "Numpy udostępnia szeroki zestaw **numerycznych typów danych**, które można wykorzystać do tworzenia tablic. Podczas tworzenia tablicy Numpy **automatycznie zgaduje typ danych**, ale większość funkcji konstrukcyjnych pozwala również na **jawne określenie typu danych** poprzez opcjonalny argument.  \n",
        "\n",
        "Oto przykład:"
      ]
    },
    {
      "cell_type": "code",
      "execution_count": null,
      "metadata": {
        "id": "4za4O0m5L9ih"
      },
      "outputs": [],
      "source": [
        "x = np.array([1, 2])  # Let numpy choose the datatype\n",
        "y = np.array([1.0, 2.0])  # Let numpy choose the datatype\n",
        "z = np.array([1, 2], dtype=np.int64)  # Force a particular datatype\n",
        "\n",
        "print(x.dtype, y.dtype, z.dtype)"
      ]
    },
    {
      "cell_type": "markdown",
      "metadata": {
        "id": "RLVIsZQpL9ik"
      },
      "source": [
        "Możesz znaleźć pełne informacje o typach danych w Numpy w [dokumentacji](http://docs.scipy.org/doc/numpy/reference/arrays.dtypes.html)."
      ]
    },
    {
      "cell_type": "markdown",
      "metadata": {
        "id": "TuB-fdhIL9ik"
      },
      "source": [
        "### Operacje na tablicach"
      ]
    },
    {
      "cell_type": "markdown",
      "metadata": {
        "id": "18e8V8elL9ik"
      },
      "source": [
        "Podstawowe funkcje matematyczne działają **element po elemencie** na tablicach i są dostępne zarówno jako **przeciążone operatory**, jak i jako **funkcje w module Numpy**:"
      ]
    },
    {
      "cell_type": "code",
      "execution_count": null,
      "metadata": {
        "id": "gHKvBrSKL9il"
      },
      "outputs": [],
      "source": [
        "x = np.array([[1,2],[3,4]], dtype=np.float64)\n",
        "y = np.array([[5,6],[7,8]], dtype=np.float64)\n",
        "\n",
        "# Elementwise sum; both produce the array\n",
        "print(x + y)\n",
        "print(np.add(x, y))"
      ]
    },
    {
      "cell_type": "code",
      "execution_count": null,
      "metadata": {
        "id": "1fZtIAMxL9in"
      },
      "outputs": [],
      "source": [
        "# Elementwise difference; both produce the array\n",
        "print(x - y)\n",
        "print(np.subtract(x, y))"
      ]
    },
    {
      "cell_type": "code",
      "execution_count": null,
      "metadata": {
        "id": "nil4AScML9io"
      },
      "outputs": [],
      "source": [
        "# Elementwise product; both produce the array\n",
        "print(x * y)\n",
        "print(np.multiply(x, y))"
      ]
    },
    {
      "cell_type": "code",
      "execution_count": null,
      "metadata": {
        "id": "0JoA4lH6L9ip"
      },
      "outputs": [],
      "source": [
        "# Elementwise division; both produce the array\n",
        "# [[ 0.2         0.33333333]\n",
        "#  [ 0.42857143  0.5       ]]\n",
        "print(x / y)\n",
        "print(np.divide(x, y))"
      ]
    },
    {
      "cell_type": "code",
      "execution_count": null,
      "metadata": {
        "id": "g0iZuA6bL9ir"
      },
      "outputs": [],
      "source": [
        "# Elementwise square root; produces the array\n",
        "# [[ 1.          1.41421356]\n",
        "#  [ 1.73205081  2.        ]]\n",
        "print(np.sqrt(x))"
      ]
    },
    {
      "cell_type": "markdown",
      "metadata": {
        "id": "a5d_uujuL9it"
      },
      "source": [
        "Należy zauważyć, że w przeciwieństwie do MATLAB-a, operator `*` wykonuje **mnożenie elementów tablicy (elementwise multiplication)**, a nie **mnożenie macierzy**.  \n",
        "\n",
        "Aby obliczyć iloczyn skalarny wektorów, pomnożyć wektor przez macierz lub wykonać mnożenie macierzy, używamy funkcji `dot`.  \n",
        "\n",
        "Funkcja `dot` jest dostępna zarówno jako:  \n",
        "- funkcja w module `numpy`,  \n",
        "- metoda instancji obiektu tablicy (`array.dot(...)`).  \n",
        "\n",
        "Oto przykład:"
      ]
    },
    {
      "cell_type": "code",
      "execution_count": null,
      "metadata": {
        "id": "I3FnmoSeL9iu"
      },
      "outputs": [],
      "source": [
        "x = np.array([[1,2],[3,4]])\n",
        "y = np.array([[5,6],[7,8]])\n",
        "\n",
        "v = np.array([9,10])\n",
        "w = np.array([11, 12])\n",
        "\n",
        "# Inner product of vectors; both produce 219\n",
        "print(v.dot(w))\n",
        "print(np.dot(v, w))"
      ]
    },
    {
      "cell_type": "markdown",
      "metadata": {
        "id": "vmxPbrHASVeA"
      },
      "source": [
        "Możesz również użyć operatora `@`, który jest **równoważny funkcji `numpy.dot`** i służy do mnożenia macierzy oraz obliczania iloczynów skalarnych.  \n"
      ]
    },
    {
      "cell_type": "code",
      "execution_count": null,
      "metadata": {
        "id": "vyrWA-mXSdtt"
      },
      "outputs": [],
      "source": [
        "print(v @ w)"
      ]
    },
    {
      "cell_type": "code",
      "execution_count": null,
      "metadata": {
        "id": "zvUODeTxL9iw"
      },
      "outputs": [],
      "source": [
        "# Matrix / vector product; both produce the rank 1 array [29 67]\n",
        "print(x.dot(v))\n",
        "print(np.dot(x, v))\n",
        "print(x @ v)"
      ]
    },
    {
      "cell_type": "code",
      "execution_count": null,
      "metadata": {
        "id": "3V_3NzNEL9iy"
      },
      "outputs": [],
      "source": [
        "# Matrix / matrix product; both produce the rank 2 array\n",
        "# [[19 22]\n",
        "#  [43 50]]\n",
        "print(x.dot(y))\n",
        "print(np.dot(x, y))\n",
        "print(x @ y)"
      ]
    },
    {
      "cell_type": "markdown",
      "metadata": {
        "id": "FbE-1If_L9i0"
      },
      "source": [
        "Numpy udostępnia wiele przydatnych funkcji do wykonywania obliczeń na tablicach; jedną z najważniejszych jest funkcja `sum`:"
      ]
    },
    {
      "cell_type": "code",
      "execution_count": null,
      "metadata": {
        "id": "DZUdZvPrL9i0"
      },
      "outputs": [],
      "source": [
        "x = np.array([[1,2],[3,4]])\n",
        "\n",
        "print(np.sum(x))  # Compute sum of all elements; prints \"10\"\n",
        "print(np.sum(x, axis=0))  # Compute sum of each column; prints \"[4 6]\"\n",
        "print(np.sum(x, axis=1))  # Compute sum of each row; prints \"[3 7]\""
      ]
    },
    {
      "cell_type": "markdown",
      "metadata": {
        "id": "ahdVW4iUL9i3"
      },
      "source": [
        "Pełną listę funkcji matematycznych dostępnych w Numpy znajdziesz w [dokumentacji](http://docs.scipy.org/doc/numpy/reference/routines.math.html).  \n",
        "\n",
        "Oprócz wykonywania obliczeń matematycznych na tablicach, często musimy **zmieniać ich kształt lub manipulować danymi**.  \n",
        "\n",
        "Najprostszym przykładem takiej operacji jest **transponowanie macierzy**. Aby transponować macierz, wystarczy użyć **atrybutu `T`** obiektu tablicy:"
      ]
    },
    {
      "cell_type": "code",
      "execution_count": null,
      "metadata": {
        "id": "63Yl1f3oL9i3"
      },
      "outputs": [],
      "source": [
        "print(x)\n",
        "print(\"transpose\\n\", x.T)"
      ]
    },
    {
      "cell_type": "code",
      "execution_count": null,
      "metadata": {
        "id": "mkk03eNIL9i4"
      },
      "outputs": [],
      "source": [
        "v = np.array([[1,2,3]])\n",
        "print(v )\n",
        "print(\"transpose\\n\", v.T)"
      ]
    },
    {
      "cell_type": "markdown",
      "metadata": {
        "id": "REfLrUTcL9i7"
      },
      "source": [
        "###Broadcasting"
      ]
    },
    {
      "cell_type": "markdown",
      "metadata": {
        "id": "EygGAMWqL9i7"
      },
      "source": [
        "**Broadcasting** to potężny mechanizm, który pozwala Numpy na **wykonywanie operacji arytmetycznych na tablicach o różnych kształtach**.  \n",
        "\n",
        "Często mamy **mniejszą tablicę** i **większą tablicę**, a chcemy wielokrotnie użyć tej mniejszej do wykonania operacji na większej.  \n",
        "\n",
        "Na przykład, jeśli chcemy **dodać stały wektor do każdego wiersza macierzy**, możemy to zrobić w następujący sposób:"
      ]
    },
    {
      "cell_type": "code",
      "execution_count": null,
      "metadata": {
        "id": "WEEvkV1ZL9i7"
      },
      "outputs": [],
      "source": [
        "# We will add the vector v to each row of the matrix x,\n",
        "# storing the result in the matrix y\n",
        "x = np.array([[1,2,3], [4,5,6], [7,8,9], [10, 11, 12]])\n",
        "v = np.array([1, 0, 1])\n",
        "y = np.empty_like(x)   # Create an empty matrix with the same shape as x\n",
        "\n",
        "# Add the vector v to each row of the matrix x with an explicit loop\n",
        "for i in range(4):\n",
        "    y[i, :] = x[i, :] + v\n",
        "\n",
        "print(y)"
      ]
    },
    {
      "cell_type": "markdown",
      "metadata": {
        "id": "2OlXXupEL9i-"
      },
      "source": [
        "To rozwiązanie działa, ale jeśli macierz `x` jest bardzo duża, jawna pętla w Pythonie może być wolna.  \n",
        "\n",
        "Zauważ, że **dodanie wektora `v` do każdego wiersza macierzy `x`** jest równoważne utworzeniu macierzy `vv` poprzez **wielokrotne skopiowanie `v` w pionie**, a następnie wykonaniu **sumowania element po elemencie** dla `x` i `vv`.  \n",
        "\n",
        "Możemy zaimplementować to podejście w następujący sposób:"
      ]
    },
    {
      "cell_type": "code",
      "execution_count": null,
      "metadata": {
        "id": "vS7UwAQQL9i-"
      },
      "outputs": [],
      "source": [
        "vv = np.tile(v, (4, 1))  # Stack 4 copies of v on top of each other\n",
        "print(vv)                # Prints \"[[1 0 1]\n",
        "                         #          [1 0 1]\n",
        "                         #          [1 0 1]\n",
        "                         #          [1 0 1]]\""
      ]
    },
    {
      "cell_type": "code",
      "execution_count": null,
      "metadata": {
        "id": "N0hJphSIL9jA"
      },
      "outputs": [],
      "source": [
        "y = x + vv  # Add x and vv elementwise\n",
        "print(y)"
      ]
    },
    {
      "cell_type": "markdown",
      "metadata": {
        "id": "zHos6RJnL9jB"
      },
      "source": [
        "**Broadcasting w Numpy** pozwala nam wykonać tę operację **bez konieczności tworzenia wielu kopii** wektora `v`.  \n",
        "\n",
        "Oto wersja wykorzystująca mechanizm broadcastingu:"
      ]
    },
    {
      "cell_type": "code",
      "execution_count": null,
      "metadata": {
        "id": "vnYFb-gYL9jC"
      },
      "outputs": [],
      "source": [
        "import numpy as np\n",
        "\n",
        "# We will add the vector v to each row of the matrix x,\n",
        "# storing the result in the matrix y\n",
        "x = np.array([[1,2,3], [4,5,6], [7,8,9], [10, 11, 12]])\n",
        "v = np.array([1, 0, 1])\n",
        "y = x + v  # Add v to each row of x using broadcasting\n",
        "print(y)"
      ]
    },
    {
      "cell_type": "markdown",
      "metadata": {
        "id": "08YyIURKL9jH"
      },
      "source": [
        "Instrukcja `y = x + v` działa, mimo że `x` ma kształt `(4, 3)`, a `v` ma kształt `(3,)`, dzięki **mechanizmowi broadcastingu**.  \n",
        "\n",
        "Działa to tak, jakby `v` miało kształt `(4, 3)`, gdzie każdy wiersz był kopią `v`, a następnie wykonywane było **sumowanie element po elemencie**.\n",
        "\n",
        "### **Zasady broadcastingu w Numpy**  \n",
        "\n",
        "1. Jeśli tablice nie mają tej samej liczby wymiarów (**rangi**), do tablicy o mniejszej randze dodaje się **jedynki** z przodu jej kształtu, aż oba kształty będą miały tę samą długość.  \n",
        "2. Dwie tablice są **kompatybilne** w danym wymiarze, jeśli:  \n",
        "   - Mają taką samą wielkość w tym wymiarze, **lub**  \n",
        "   - Jedna z tablic ma rozmiar **1** w tym wymiarze.  \n",
        "3. Tablice można **rozszerzyć (broadcastować) razem**, jeśli są kompatybilne we wszystkich wymiarach.  \n",
        "4. Po rozszerzeniu każda tablica **zachowuje się tak, jakby miała kształt równy maksymalnemu rozmiarowi** wzdłuż każdej osi.  \n",
        "5. W każdym wymiarze, gdzie jedna tablica miała rozmiar **1**, a druga większy, pierwsza tablica **zachowuje się tak, jakby została powielona** wzdłuż tego wymiaru.  \n",
        "\n",
        "Jeśli ta koncepcja jest niejasna, warto zapoznać się z wyjaśnieniami w [oficjalnej dokumentacji](http://docs.scipy.org/doc/numpy/user/basics.broadcasting.html) lub w tej [dodatkowej analizie](http://wiki.scipy.org/EricsBroadcastingDoc).  \n",
        "\n",
        " **Funkcje wspierające broadcasting**  \n",
        "Funkcje obsługujące broadcasting nazywane są **funkcjami uniwersalnymi (universal functions, ufuncs)**. Pełną listę można znaleźć w [dokumentacji](http://docs.scipy.org/doc/numpy/reference/ufuncs.html#available-ufuncs).  \n",
        "\n",
        "**Przykłady zastosowania broadcastingu:**  \n"
      ]
    },
    {
      "cell_type": "code",
      "execution_count": null,
      "metadata": {
        "id": "EmQnwoM9L9jH"
      },
      "outputs": [],
      "source": [
        "# Compute outer product of vectors\n",
        "v = np.array([1,2,3])  # v has shape (3,)\n",
        "w = np.array([4,5])    # w has shape (2,)\n",
        "# To compute an outer product, we first reshape v to be a column\n",
        "# vector of shape (3, 1); we can then broadcast it against w to yield\n",
        "# an output of shape (3, 2), which is the outer product of v and w:\n",
        "\n",
        "print(np.reshape(v, (3, 1)) * w)"
      ]
    },
    {
      "cell_type": "code",
      "execution_count": null,
      "metadata": {
        "id": "PgotmpcnL9jK"
      },
      "outputs": [],
      "source": [
        "# Add a vector to each row of a matrix\n",
        "x = np.array([[1,2,3], [4,5,6]])\n",
        "# x has shape (2, 3) and v has shape (3,) so they broadcast to (2, 3),\n",
        "# giving the following matrix:\n",
        "\n",
        "print(x + v)"
      ]
    },
    {
      "cell_type": "code",
      "execution_count": null,
      "metadata": {
        "id": "T5hKS1QaL9jK"
      },
      "outputs": [],
      "source": [
        "# Add a vector to each column of a matrix\n",
        "# x has shape (2, 3) and w has shape (2,).\n",
        "# If we transpose x then it has shape (3, 2) and can be broadcast\n",
        "# against w to yield a result of shape (3, 2); transposing this result\n",
        "# yields the final result of shape (2, 3) which is the matrix x with\n",
        "# the vector w added to each column. Gives the following matrix:\n",
        "\n",
        "print((x.T + w).T)"
      ]
    },
    {
      "cell_type": "code",
      "execution_count": null,
      "metadata": {
        "id": "JDUrZUl6L9jN"
      },
      "outputs": [],
      "source": [
        "# Another solution is to reshape w to be a row vector of shape (2, 1);\n",
        "# we can then broadcast it directly against x to produce the same\n",
        "# output.\n",
        "print(x + np.reshape(w, (2, 1)))"
      ]
    },
    {
      "cell_type": "code",
      "execution_count": null,
      "metadata": {
        "id": "VzrEo4KGL9jP"
      },
      "outputs": [],
      "source": [
        "# Multiply a matrix by a constant:\n",
        "# x has shape (2, 3). Numpy treats scalars as arrays of shape ();\n",
        "# these can be broadcast together to shape (2, 3), producing the\n",
        "# following array:\n",
        "print(x * 2)"
      ]
    },
    {
      "cell_type": "markdown",
      "metadata": {
        "id": "89e2FXxFL9jQ"
      },
      "source": [
        "Broadcasting zazwyczaj sprawia, że kod jest **bardziej zwięzły i szybszy**, dlatego warto go stosować tam, gdzie to możliwe."
      ]
    },
    {
      "cell_type": "markdown",
      "metadata": {
        "id": "iF3ZtwVNL9jQ"
      },
      "source": [
        "To krótkie wprowadzenie omówiło wiele kluczowych aspektów biblioteki Numpy, ale nie jest ono wyczerpujące. Aby dowiedzieć się więcej, warto zajrzeć do [oficjalnej dokumentacji Numpy](http://docs.scipy.org/doc/numpy/reference/)."
      ]
    },
    {
      "cell_type": "markdown",
      "metadata": {
        "id": "tEINf4bEL9jR"
      },
      "source": [
        "##Matplotlib"
      ]
    },
    {
      "cell_type": "markdown",
      "metadata": {
        "id": "0hgVWLaXL9jR"
      },
      "source": [
        "**Matplotlib** to biblioteka do tworzenia wykresów.  \n",
        "\n",
        "W tej sekcji przedstawimy krótkie wprowadzenie do modułu **`matplotlib.pyplot`**, który oferuje system wykresów podobny do tego znanego z **MATLAB-a**."
      ]
    },
    {
      "cell_type": "code",
      "execution_count": null,
      "metadata": {
        "id": "cmh_7c6KL9jR"
      },
      "outputs": [],
      "source": [
        "import matplotlib.pyplot as plt"
      ]
    },
    {
      "cell_type": "markdown",
      "metadata": {
        "id": "jOsaA5hGL9jS"
      },
      "source": [
        "Uruchamiając to specjalne polecenie w **IPythonie**, sprawimy, że wykresy będą wyświetlane **bezpośrednio w notatniku**:"
      ]
    },
    {
      "cell_type": "code",
      "execution_count": null,
      "metadata": {
        "id": "ijpsmwGnL9jT"
      },
      "outputs": [],
      "source": [
        "%matplotlib inline"
      ]
    },
    {
      "cell_type": "markdown",
      "metadata": {
        "id": "U5Z_oMoLL9jV"
      },
      "source": [
        "### Rysowanie wykresów funkcją ```plot```"
      ]
    },
    {
      "cell_type": "markdown",
      "metadata": {
        "id": "6QyFJ7dhL9jV"
      },
      "source": [
        "Najważniejszą funkcją w **Matplotlib** jest `plot`, która pozwala na tworzenie **wykresów 2D**.  \n",
        "\n",
        "Oto prosty przykład:"
      ]
    },
    {
      "cell_type": "code",
      "execution_count": null,
      "metadata": {
        "id": "pua52BGeL9jW"
      },
      "outputs": [],
      "source": [
        "# Compute the x and y coordinates for points on a sine curve\n",
        "x = np.arange(0, 3 * np.pi, 0.1)\n",
        "y = np.sin(x)\n",
        "\n",
        "# Plot the points using matplotlib\n",
        "plt.plot(x, y)"
      ]
    },
    {
      "cell_type": "markdown",
      "metadata": {
        "id": "9W2VAcLiL9jX"
      },
      "source": [
        "Dodając niewielką ilość dodatkowego kodu, możemy łatwo **narysować wiele linii jednocześnie** oraz dodać **tytuł, legendę i etykiety osi**:"
      ]
    },
    {
      "cell_type": "code",
      "execution_count": null,
      "metadata": {
        "id": "TfCQHJ5AL9jY"
      },
      "outputs": [],
      "source": [
        "y_sin = np.sin(x)\n",
        "y_cos = np.cos(x)\n",
        "\n",
        "# Plot the points using matplotlib\n",
        "plt.plot(x, y_sin)\n",
        "plt.plot(x, y_cos)\n",
        "plt.xlabel('x axis label')\n",
        "plt.ylabel('y axis label')\n",
        "plt.title('Sine and Cosine')\n",
        "plt.legend(['Sine', 'Cosine'])"
      ]
    },
    {
      "cell_type": "markdown",
      "metadata": {
        "id": "R5IeAY03L9ja"
      },
      "source": [
        "### Podwykresy (ang. subplots)"
      ]
    },
    {
      "cell_type": "markdown",
      "metadata": {
        "id": "CfUzwJg0L9ja"
      },
      "source": [
        "Możesz **rysować różne wykresy w ramach jednego wykresu**, używając funkcji `subplot`.  \n",
        "\n",
        "Oto przykład:"
      ]
    },
    {
      "cell_type": "code",
      "execution_count": null,
      "metadata": {
        "id": "dM23yGH9L9ja"
      },
      "outputs": [],
      "source": [
        "# Compute the x and y coordinates for points on sine and cosine curves\n",
        "x = np.arange(0, 3 * np.pi, 0.1)\n",
        "y_sin = np.sin(x)\n",
        "y_cos = np.cos(x)\n",
        "\n",
        "# Set up a subplot grid that has height 2 and width 1,\n",
        "# and set the first such subplot as active.\n",
        "plt.subplot(2, 1, 1)\n",
        "\n",
        "# Make the first plot\n",
        "plt.plot(x, y_sin)\n",
        "plt.title('Sine')\n",
        "\n",
        "# Set the second subplot as active, and make the second plot.\n",
        "plt.subplot(2, 1, 2)\n",
        "plt.plot(x, y_cos)\n",
        "plt.title('Cosine')\n",
        "\n",
        "# Show the figure.\n",
        "plt.show()"
      ]
    },
    {
      "cell_type": "markdown",
      "metadata": {
        "id": "gLtsST5SL9jc"
      },
      "source": [
        "Więcej informacji na temat funkcji subplot można znaleźć [w dokumentacji](http://matplotlib.org/api/pyplot_api.html#matplotlib.pyplot.subplot)."
      ]
    },
    {
      "cell_type": "markdown",
      "source": [
        "# Zadania do samodzielnego wykonania"
      ],
      "metadata": {
        "id": "3_egs3GWByp_"
      }
    },
    {
      "cell_type": "code",
      "source": [
        "# Wgraj dostarczony plik whl i wykonaj poniższy kod:\n",
        "!pip install my_package-0.1-py3-none-any.whl"
      ],
      "metadata": {
        "id": "DDER5xhIFEsg"
      },
      "execution_count": null,
      "outputs": []
    },
    {
      "cell_type": "code",
      "source": [
        "import random\n",
        "from math import cos, sin\n",
        "\n",
        "import checker\n",
        "import matplotlib.pyplot as plt\n",
        "import numpy as np\n",
        "import utils"
      ],
      "metadata": {
        "id": "PZ4-NGiAFZVW"
      },
      "execution_count": null,
      "outputs": []
    },
    {
      "cell_type": "markdown",
      "source": [
        "## Zadanie 1.\n",
        "Wykonać poniższe ćwiczenia przy pomocy Numpy:\n",
        "\n",
        "1. Wykorzystując `broadcasting` (patrz na rysunek poniżej) stwórz funkcję, która dla zadnego $K$ zwraca tabliczkę mnożenia, tzn. tablicę $A$ taką, że: $$A_{ij} = i \\cdot j\\;\\;\\;\\;\\; \\forall i,j \\in \\{1,\\dots,K\\}$$\n",
        "    <img src=\"http://www.astroml.org/_images/fig_broadcast_visual_1.png\">\n",
        "\n",
        "    Przydatne funkcje: `np.arange`, `np.reshape`."
      ],
      "metadata": {
        "id": "-JVW_Rd9EA6O"
      }
    },
    {
      "cell_type": "markdown",
      "source": [
        "*Wskazówka: przydatna może okazać się wiedza, czym różni się wektor o kształcie (n,) od (n,1): https://stackoverflow.com/questions/22053050/difference-between-numpy-array-shape-r-1-and-r*"
      ],
      "metadata": {
        "id": "P2CEGXPXiGmn"
      }
    },
    {
      "cell_type": "code",
      "execution_count": null,
      "metadata": {
        "id": "eJXA5AWSL9jc"
      },
      "outputs": [],
      "source": [
        "def multiplication_table(k: int) -> np.ndarray:\n",
        "    ...\n",
        "\n",
        "\n",
        "print(\"Wynik funkcji multiplication:\\n\", multiplication_table(10))\n",
        "checker.check_multiplication_table(multiplication_table)"
      ]
    },
    {
      "cell_type": "markdown",
      "source": [
        "2. Mając daną tablice jednowymiarową oraz liczbę `x` znajdź najbliższą wartość `x` w `A`, tzn.\n",
        "\n",
        "$$ \\mathrm{closest}(x, A) = \\arg\\min_{a\\in A}|x - a|  $$\n",
        "\n",
        "Przydatne funkcje: `np.argmin`, `np.abs`."
      ],
      "metadata": {
        "id": "_ooJIDgKEblz"
      }
    },
    {
      "cell_type": "code",
      "source": [
        "def closest(x: float, A: np.ndarray) -> np.ndarray:\n",
        "    ...\n",
        "\n",
        "\n",
        "print(\"Wynik funkcji closest:\", closest(9, np.array([5, 8, 14])))\n",
        "checker.check_closest(closest)"
      ],
      "metadata": {
        "id": "j3EA61ipEkr1"
      },
      "execution_count": null,
      "outputs": []
    },
    {
      "cell_type": "markdown",
      "source": [
        "3. Zaimplementuj proste liczenie wartosci wielomianu o zadanych współczynnikach (analogię `np.poly1d`), czyli funkcję\n",
        "\n",
        "$$\n",
        "\\mathrm{poly}(x, a) = a_0 + a_1 x + a_2 x^2 + \\dots + a_k x^k = \\sum_{i=1}^k a_i x^i\n",
        "$$\n",
        "\n",
        "Potencjalnie przydatne funkcje: `np.cumprod`, `np.concatenate`, `np.sum`."
      ],
      "metadata": {
        "id": "DB_SWO90El7y"
      }
    },
    {
      "cell_type": "code",
      "source": [
        "def poly(x: int, a: np.ndarray) -> np.ndarray:\n",
        "    ...\n",
        "\n",
        "\n",
        "print(\"Wynik funkcji poly:\", poly(3, np.array([1, 2, 4])))\n",
        "checker.check_poly(poly)"
      ],
      "metadata": {
        "id": "6InCZxTSEtyn"
      },
      "execution_count": null,
      "outputs": []
    },
    {
      "cell_type": "markdown",
      "source": [
        "## Zadanie 2.\n",
        "Należy:\n",
        "1. Wysamplować $10000$ przykładów z rozkładu normalnego $\\mathcal{N}(\\mu, \\sigma)$. **Należy wybrać niestandardowe parametry**, tzn. $\\mu \\neq 0$ oraz $\\sigma \\neq 1$.\n",
        "2. Następnie należy policzyć, jaki procent wylosowanych przykładów, znajduje się od środka w odległości większej niż:\n",
        "    * $1\\sigma$ (tzn. $|x - \\mu| > 1\\sigma$)\n",
        "    * $2\\sigma$ (tzn. $|x - \\mu| > 2\\sigma$)\n",
        "    * $3\\sigma$ (tzn. $|x - \\mu| > 3\\sigma$)\n",
        "    \n",
        "3. Wypisać wszystkie przykłady, które wpadają do ostatniej kategorii (tzn. są oddalone o co najmniej $3\\sigma$ od średniej)."
      ],
      "metadata": {
        "id": "xewQz0mTGUZf"
      }
    },
    {
      "cell_type": "code",
      "source": [
        "# Podpunkt 1: Wysamplować 10000 przykładów z rozkładu normalnego\n",
        "loc = ???  # średnia wybranego rozkładu normalnego\n",
        "scale = ???  # odchylenie standardowe wybranego rozkładu normalnego\n",
        "X = np.random.normal(???)\n",
        "\n",
        "# Podpunkt 2: Wyliczyć i wypisać procent\n",
        "\n",
        "# Podpunkt 3: Wypisać elementy, które są oddalone od średniej o 3 sigma.\n",
        "\n",
        "# Trochę wizualizacji\n",
        "utils.visualize_normal_dist(X, loc, scale)"
      ],
      "metadata": {
        "id": "DrSpa96iGZC3"
      },
      "execution_count": null,
      "outputs": []
    }
  ],
  "metadata": {
    "colab": {
      "provenance": []
    },
    "kernelspec": {
      "display_name": "Python 3",
      "language": "python",
      "name": "python3"
    },
    "language_info": {
      "codemirror_mode": {
        "name": "ipython",
        "version": 3
      },
      "file_extension": ".py",
      "mimetype": "text/x-python",
      "name": "python",
      "nbconvert_exporter": "python",
      "pygments_lexer": "ipython3",
      "version": "3.7.6"
    }
  },
  "nbformat": 4,
  "nbformat_minor": 0
}